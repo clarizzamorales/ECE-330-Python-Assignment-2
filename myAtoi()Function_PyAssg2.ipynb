{
 "cells": [
  {
   "cell_type": "code",
   "execution_count": 1,
   "metadata": {},
   "outputs": [],
   "source": [
    "#ECE 330\n",
    "#Python Assignment 2\n",
    "#Clarizza Morales \n",
    "#String to integer function converter\n",
    "#Reference to myAtoi() function from C++"
   ]
  },
  {
   "cell_type": "code",
   "execution_count": 2,
   "metadata": {},
   "outputs": [
    {
     "name": "stdout",
     "output_type": "stream",
     "text": [
      "Enter a string value to convert to integer: -3\n",
      "User Input\n",
      "-3\n",
      "-1\n",
      "Testing with string 23\n",
      "23\n",
      "25\n"
     ]
    }
   ],
   "source": [
    "#define funct with parameter stringVal we want to convert\n",
    "def myAtoi(stringVal: str) -> int:\n",
    "        #check for white space\n",
    "        if stringVal == \"\":\n",
    "            return 0\n",
    "        #array of digits we ca have or convert\n",
    "        availableDigits = ['1', '2', '3', '4', '5', '6', '7', '8', '9', '0']\n",
    "        if stringVal[0] not in availableDigits and stringVal[0] != \" \" and stringVal[0] != \"+\" and stringVal[0] != \"-\":\n",
    "            return 0\n",
    "        \n",
    "        output = \"\"\n",
    "        pos_or_neg = 0\n",
    "        #check for the sign or white space\n",
    "        for character in stringVal:\n",
    "            if pos_or_neg and character not in availableDigits:\n",
    "                break\n",
    "            elif character == '+' and output == \"\":\n",
    "                pos_or_neg = 1\n",
    "                continue\n",
    "            elif character == '-' and output == \"\":\n",
    "                pos_or_neg = 1\n",
    "                output += '-'\n",
    "            elif character in availableDigits:\n",
    "                output += character\n",
    "            elif character == \" \" and output == \"\":\n",
    "                continue\n",
    "            else:\n",
    "                break\n",
    "        \n",
    "        #check each character in the string to convert\n",
    "        digitfromArray = 0\n",
    "        for character in output:\n",
    "            if character in availableDigits:\n",
    "                digitfromArray = 1\n",
    "                break\n",
    "        \n",
    "        if digitfromArray == 0:\n",
    "            return 0\n",
    "        \n",
    "        #convert the string digits to an integer and clmap if necessary based on accepted signed 32 bit range value \n",
    "        intOutput = int(output)\n",
    "        bit32Range = (2**31-1)\n",
    "        if (intOutput > bit32Range):\n",
    "            intValue = (2**31 - 1)\n",
    "            return intValue\n",
    "        \n",
    "        bit32RangeL = (-2**31)\n",
    "        if (intOutput < bit32RangeL):\n",
    "            intValue = (-2**31)\n",
    "            return intValue\n",
    "        \n",
    "        return intOutput\n",
    "\n",
    "\n",
    "#test function with 23 as string\n",
    "stringVal1 = '23'\n",
    "#test function with user's input string \n",
    "stringVal2 = input(\"Enter a string value to convert to integer: \")\n",
    "\n",
    "print('User Input')\n",
    "print(myAtoi(stringVal2)) #use function\n",
    "print (myAtoi(stringVal2) + 2) #adding two\n",
    "\n",
    "print('Testing with string 23')\n",
    "print(myAtoi(stringVal1))\n",
    "print(myAtoi(stringVal1) + 2)"
   ]
  },
  {
   "cell_type": "code",
   "execution_count": null,
   "metadata": {},
   "outputs": [],
   "source": []
  }
 ],
 "metadata": {
  "kernelspec": {
   "display_name": "Python 3",
   "language": "python",
   "name": "python3"
  },
  "language_info": {
   "codemirror_mode": {
    "name": "ipython",
    "version": 3
   },
   "file_extension": ".py",
   "mimetype": "text/x-python",
   "name": "python",
   "nbconvert_exporter": "python",
   "pygments_lexer": "ipython3",
   "version": "3.8.5"
  }
 },
 "nbformat": 4,
 "nbformat_minor": 4
}
